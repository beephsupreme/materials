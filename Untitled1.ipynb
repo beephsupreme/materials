{
 "cells": [
  {
   "cell_type": "code",
   "execution_count": 69,
   "id": "7715e3cc",
   "metadata": {},
   "outputs": [],
   "source": [
    "import pandas as pd\n",
    "import numpy as np"
   ]
  },
  {
   "cell_type": "markdown",
   "id": "49874a49",
   "metadata": {},
   "source": [
    "# Read datafiles"
   ]
  },
  {
   "cell_type": "code",
   "execution_count": 104,
   "id": "9584ad9f",
   "metadata": {},
   "outputs": [],
   "source": [
    "inv = pd.read_csv('C:\\\\Users\\\\beeph\\\\projects\\\\jupyter\\\\materials\\\\data\\\\data.txt')\n",
    "bl = pd.read_csv('C:\\\\Users\\\\beeph\\\\projects\\\\jupyter\\\\materials\\\\data\\\\bl.txt')\n",
    "hfr = pd.read_csv('C:\\\\Users\\\\beeph\\\\projects\\\\jupyter\\\\materials\\\\data\\\\hfr.txt')\n",
    "validate = pd.read_csv('C:\\\\Users\\\\beeph\\\\projects\\\\jupyter\\\\materials\\\\data\\\\validate.csv')\n",
    "translate = pd.read_csv('C:\\\\Users\\\\beeph\\\\projects\\\\jupyter\\\\materials\\\\data\\\\translate.csv')"
   ]
  },
  {
   "cell_type": "markdown",
   "id": "addd6ed4",
   "metadata": {},
   "source": [
    "# Download schedule"
   ]
  },
  {
   "cell_type": "code",
   "execution_count": 105,
   "id": "b060c915",
   "metadata": {},
   "outputs": [],
   "source": [
    "tables = pd.read_html('http://www.toki.co.jp/purchasing/TLIHTML.files/sheet001.htm')"
   ]
  },
  {
   "cell_type": "markdown",
   "id": "90c50e0e",
   "metadata": {},
   "source": [
    "# Clean schedule"
   ]
  },
  {
   "cell_type": "code",
   "execution_count": 106,
   "id": "f3076ca9",
   "metadata": {},
   "outputs": [],
   "source": [
    "schedule = tables[0].fillna(0)\n",
    "labels = ['Part Number'] + list(schedule.loc[3][5:])\n",
    "schedule = schedule.drop([1,2,3,4], axis=1)\n",
    "schedule = schedule[5:]\n",
    "schedule.columns = labels\n",
    "cols = schedule.columns[1:]\n",
    "schedule[cols] = schedule[cols].astype(float)\n",
    "schedule = schedule.groupby(['Part Number'], as_index=False).sum()"
   ]
  },
  {
   "cell_type": "markdown",
   "id": "a5ec28bb",
   "metadata": {},
   "source": [
    "# Translate schedule"
   ]
  },
  {
   "cell_type": "code",
   "execution_count": 108,
   "id": "42816fcc",
   "metadata": {},
   "outputs": [
    {
     "name": "stdout",
     "output_type": "stream",
     "text": [
      "<class 'pandas.core.frame.DataFrame'>\n",
      "RangeIndex: 18 entries, 0 to 17\n",
      "Data columns (total 4 columns):\n",
      " #   Column       Non-Null Count  Dtype  \n",
      "---  ------       --------------  -----  \n",
      " 0   Part Number  18 non-null     object \n",
      " 1   2022/2/4     18 non-null     float64\n",
      " 2   2022/3/4     18 non-null     float64\n",
      " 3   2022/4/15    18 non-null     float64\n",
      "dtypes: float64(3), object(1)\n",
      "memory usage: 704.0+ bytes\n"
     ]
    }
   ],
   "source": [
    "schedule.info()"
   ]
  },
  {
   "cell_type": "code",
   "execution_count": null,
   "id": "d8f3cf46",
   "metadata": {},
   "outputs": [],
   "source": []
  }
 ],
 "metadata": {
  "kernelspec": {
   "display_name": "Python 3 (ipykernel)",
   "language": "python",
   "name": "python3"
  },
  "language_info": {
   "codemirror_mode": {
    "name": "ipython",
    "version": 3
   },
   "file_extension": ".py",
   "mimetype": "text/x-python",
   "name": "python",
   "nbconvert_exporter": "python",
   "pygments_lexer": "ipython3",
   "version": "3.9.9"
  }
 },
 "nbformat": 4,
 "nbformat_minor": 5
}
